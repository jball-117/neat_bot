{
 "cells": [
  {
   "cell_type": "code",
   "execution_count": 1,
   "metadata": {},
   "outputs": [],
   "source": [
    "import carball"
   ]
  },
  {
   "cell_type": "code",
   "execution_count": 2,
   "metadata": {},
   "outputs": [],
   "source": [
    "replay_name = '012194B14489DD6AD776F0A877C53C05.replay'\n",
    "output_name = '012194B14489DD6AD776F0A877C53C05.json'"
   ]
  },
  {
   "cell_type": "code",
   "execution_count": 3,
   "metadata": {},
   "outputs": [
    {
     "name": "stderr",
     "output_type": "stream",
     "text": [
      "Player RLCS Admin as player has no MatchScore.\n",
      "Score is not found for player\n",
      "Ignoring player: RLCS Admin as player has no team.\n",
      "Player RLCS Observer 2 as player has no MatchScore.\n",
      "Score is not found for player\n",
      "Ignoring player: RLCS Observer 2 as player has no team.\n",
      "Player RLCS Observer 1 as player has no MatchScore.\n",
      "Score is not found for player\n",
      "Ignoring player: RLCS Observer 1 as player has no team.\n",
      "Player RLCS Observer 3 as player has no MatchScore.\n",
      "Score is not found for player\n",
      "Ignoring player: RLCS Observer 3 as player has no team.\n",
      "Goal is not shot: frame 5076 by jstn.\n",
      "The player never hit the ball during the \"carry\"\n",
      "The player never hit the ball during the \"carry\"\n",
      "The player never hit the ball during the \"carry\"\n"
     ]
    }
   ],
   "source": [
    "analysis_manager = carball.analyze_replay_file(replay_name, output_path=output_name, overwrite=True)"
   ]
  },
  {
   "cell_type": "code",
   "execution_count": 4,
   "metadata": {},
   "outputs": [],
   "source": [
    "proto_game = analysis_manager.get_protobuf_data()"
   ]
  },
  {
   "cell_type": "code",
   "execution_count": 6,
   "metadata": {
    "scrolled": true
   },
   "outputs": [],
   "source": [
    "df = analysis_manager.get_data_frame()"
   ]
  },
  {
   "cell_type": "code",
   "execution_count": 14,
   "metadata": {},
   "outputs": [],
   "source": [
    "df.to_csv(\"test_df.csv\")"
   ]
  },
  {
   "cell_type": "code",
   "execution_count": 12,
   "metadata": {
    "scrolled": false
   },
   "outputs": [
    {
     "name": "stdout",
     "output_type": "stream",
     "text": [
      "('Fairy Peak!', 'ping')  2\n",
      "('Fairy Peak!', 'pos_x')  0.0\n",
      "('Fairy Peak!', 'pos_y')  4608.0\n",
      "('Fairy Peak!', 'pos_z')  17.01\n",
      "('Fairy Peak!', 'rot_x')  0.009544445195216964\n",
      "('Fairy Peak!', 'rot_y')  -1.570804070673687\n",
      "('Fairy Peak!', 'rot_z')  -3.695579390253407e-08\n",
      "('Fairy Peak!', 'vel_x')  0.0\n",
      "('Fairy Peak!', 'vel_y')  0.0\n",
      "('Fairy Peak!', 'vel_z')  2.1\n",
      "('Fairy Peak!', 'ang_vel_x')  0.6\n",
      "('Fairy Peak!', 'ang_vel_y')  0.0\n",
      "('Fairy Peak!', 'ang_vel_z')  0.0\n",
      "('Fairy Peak!', 'throttle')  nan\n",
      "('Fairy Peak!', 'steer')  nan\n",
      "('Fairy Peak!', 'handbrake')  None\n",
      "('Fairy Peak!', 'ball_cam')  None\n",
      "('Fairy Peak!', 'dodge_active')  False\n",
      "('Fairy Peak!', 'double_jump_active')  False\n",
      "('Fairy Peak!', 'boost')  85.0\n",
      "('Fairy Peak!', 'boost_active')  False\n",
      "('Fairy Peak!', 'jump_active')  False\n",
      "('Fairy Peak!', 'boost_collect')  nan\n",
      "('GarrettG', 'ping')  2\n",
      "('GarrettG', 'pos_x')  0.0\n",
      "('GarrettG', 'pos_y')  -4608.0\n",
      "('GarrettG', 'pos_z')  17.01\n",
      "('GarrettG', 'rot_x')  0.009544445195216964\n",
      "('GarrettG', 'rot_y')  1.5707885829161061\n",
      "('GarrettG', 'rot_z')  -3.695579390253407e-08\n",
      "('GarrettG', 'vel_x')  0.0\n",
      "('GarrettG', 'vel_y')  0.0\n",
      "('GarrettG', 'vel_z')  2.1\n",
      "('GarrettG', 'ang_vel_x')  -0.6\n",
      "('GarrettG', 'ang_vel_y')  0.0\n",
      "('GarrettG', 'ang_vel_z')  0.0\n",
      "('GarrettG', 'throttle')  238.0\n",
      "('GarrettG', 'steer')  nan\n",
      "('GarrettG', 'handbrake')  None\n",
      "('GarrettG', 'ball_cam')  True\n",
      "('GarrettG', 'jump_active')  False\n",
      "('GarrettG', 'double_jump_active')  False\n",
      "('GarrettG', 'boost')  85.0\n",
      "('GarrettG', 'boost_active')  False\n",
      "('GarrettG', 'dodge_active')  False\n",
      "('GarrettG', 'boost_collect')  nan\n",
      "('Kaydop', 'ping')  2\n",
      "('Kaydop', 'pos_x')  2048.0\n",
      "('Kaydop', 'pos_y')  2560.0\n",
      "('Kaydop', 'pos_z')  17.01\n",
      "('Kaydop', 'rot_x')  0.009538552897547504\n",
      "('Kaydop', 'rot_y')  -2.356183620069044\n",
      "('Kaydop', 'rot_z')  2.118081220539153e-05\n",
      "('Kaydop', 'vel_x')  0.0\n",
      "('Kaydop', 'vel_y')  0.0\n",
      "('Kaydop', 'vel_z')  2.1\n",
      "('Kaydop', 'ang_vel_x')  0.6\n",
      "('Kaydop', 'ang_vel_y')  -0.3\n",
      "('Kaydop', 'ang_vel_z')  0.0\n",
      "('Kaydop', 'throttle')  255.0\n",
      "('Kaydop', 'steer')  nan\n",
      "('Kaydop', 'handbrake')  None\n",
      "('Kaydop', 'ball_cam')  True\n",
      "('Kaydop', 'boost')  85.0\n",
      "('Kaydop', 'boost_active')  False\n",
      "('Kaydop', 'double_jump_active')  False\n",
      "('Kaydop', 'jump_active')  False\n",
      "('Kaydop', 'dodge_active')  False\n",
      "('Kaydop', 'boost_collect')  nan\n",
      "('Scrub Killa', 'ping')  2.0\n",
      "('Scrub Killa', 'pos_x')  256.0\n",
      "('Scrub Killa', 'pos_y')  3840.0\n",
      "('Scrub Killa', 'pos_z')  17.01\n",
      "('Scrub Killa', 'rot_x')  0.009544445195216964\n",
      "('Scrub Killa', 'rot_y')  -1.570804070673687\n",
      "('Scrub Killa', 'rot_z')  -3.695579390253407e-08\n",
      "('Scrub Killa', 'vel_x')  0.0\n",
      "('Scrub Killa', 'vel_y')  0.0\n",
      "('Scrub Killa', 'vel_z')  2.1\n",
      "('Scrub Killa', 'ang_vel_x')  0.6\n",
      "('Scrub Killa', 'ang_vel_y')  0.0\n",
      "('Scrub Killa', 'ang_vel_z')  0.0\n",
      "('Scrub Killa', 'throttle')  255.0\n",
      "('Scrub Killa', 'steer')  199.0\n",
      "('Scrub Killa', 'handbrake')  None\n",
      "('Scrub Killa', 'ball_cam')  True\n",
      "('Scrub Killa', 'dodge_active')  False\n",
      "('Scrub Killa', 'double_jump_active')  False\n",
      "('Scrub Killa', 'jump_active')  False\n",
      "('Scrub Killa', 'boost')  85.0\n",
      "('Scrub Killa', 'boost_active')  False\n",
      "('Scrub Killa', 'boost_collect')  nan\n",
      "('Turbopolsa', 'ping')  2\n",
      "('Turbopolsa', 'pos_x')  -256.0\n",
      "('Turbopolsa', 'pos_y')  -3840.0\n",
      "('Turbopolsa', 'pos_z')  17.01\n",
      "('Turbopolsa', 'rot_x')  0.009544445195216964\n",
      "('Turbopolsa', 'rot_y')  1.5707885829161061\n",
      "('Turbopolsa', 'rot_z')  -3.695579390253407e-08\n",
      "('Turbopolsa', 'vel_x')  0.0\n",
      "('Turbopolsa', 'vel_y')  0.0\n",
      "('Turbopolsa', 'vel_z')  2.1\n",
      "('Turbopolsa', 'ang_vel_x')  -0.6\n",
      "('Turbopolsa', 'ang_vel_y')  0.0\n",
      "('Turbopolsa', 'ang_vel_z')  0.0\n",
      "('Turbopolsa', 'throttle')  nan\n",
      "('Turbopolsa', 'steer')  5.0\n",
      "('Turbopolsa', 'handbrake')  None\n",
      "('Turbopolsa', 'ball_cam')  True\n",
      "('Turbopolsa', 'boost')  85.0\n",
      "('Turbopolsa', 'boost_active')  False\n",
      "('Turbopolsa', 'jump_active')  False\n",
      "('Turbopolsa', 'dodge_active')  False\n",
      "('Turbopolsa', 'double_jump_active')  False\n",
      "('Turbopolsa', 'boost_collect')  nan\n",
      "('ball', 'pos_x')  0.0\n",
      "('ball', 'pos_y')  0.0\n",
      "('ball', 'pos_z')  92.74\n",
      "('ball', 'rot_x')  5.394802636851348e-06\n",
      "('ball', 'rot_y')  5.394831740982355e-06\n",
      "('ball', 'rot_z')  5.394831740982355e-06\n",
      "('ball', 'vel_x')  nan\n",
      "('ball', 'vel_y')  nan\n",
      "('ball', 'vel_z')  nan\n",
      "('ball', 'ang_vel_x')  nan\n",
      "('ball', 'ang_vel_y')  nan\n",
      "('ball', 'ang_vel_z')  nan\n",
      "('ball', 'hit_team_no')  nan\n",
      "('jstn.', 'ping')  2\n",
      "('jstn.', 'pos_x')  -2048.0\n",
      "('jstn.', 'pos_y')  -2560.0\n",
      "('jstn.', 'pos_z')  17.01\n",
      "('jstn.', 'rot_x')  0.009542677413249306\n",
      "('jstn.', 'rot_y')  0.786121468206535\n",
      "('jstn.', 'rot_z')  1.4611692864456663e-05\n",
      "('jstn.', 'vel_x')  0.6\n",
      "('jstn.', 'vel_y')  0.6\n",
      "('jstn.', 'vel_z')  2.1\n",
      "('jstn.', 'ang_vel_x')  -0.5\n",
      "('jstn.', 'ang_vel_y')  0.3\n",
      "('jstn.', 'ang_vel_z')  0.0\n",
      "('jstn.', 'throttle')  255.0\n",
      "('jstn.', 'steer')  nan\n",
      "('jstn.', 'handbrake')  None\n",
      "('jstn.', 'ball_cam')  None\n",
      "('jstn.', 'boost')  85.0\n",
      "('jstn.', 'boost_active')  False\n",
      "('jstn.', 'jump_active')  False\n",
      "('jstn.', 'double_jump_active')  False\n",
      "('jstn.', 'dodge_active')  False\n",
      "('jstn.', 'boost_collect')  nan\n",
      "('game', 'time')  19.248585\n",
      "('game', 'delta')  0.033333898\n",
      "('game', 'seconds_remaining')  300.0\n",
      "('game', 'replicated_seconds_remaining')  nan\n",
      "('game', 'is_overtime')  None\n",
      "('game', 'ball_has_been_hit')  None\n",
      "('game', 'goal_number')  nan\n"
     ]
    }
   ],
   "source": [
    "for one in df.columns:\n",
    "    print(str(one) + \"  \" + str(df.at[1, one]))"
   ]
  },
  {
   "cell_type": "code",
   "execution_count": null,
   "metadata": {},
   "outputs": [],
   "source": []
  }
 ],
 "metadata": {
  "kernelspec": {
   "display_name": "Python 3",
   "language": "python",
   "name": "python3"
  },
  "language_info": {
   "codemirror_mode": {
    "name": "ipython",
    "version": 3
   },
   "file_extension": ".py",
   "mimetype": "text/x-python",
   "name": "python",
   "nbconvert_exporter": "python",
   "pygments_lexer": "ipython3",
   "version": "3.6.9"
  }
 },
 "nbformat": 4,
 "nbformat_minor": 2
}
