{
 "cells": [
  {
   "cell_type": "code",
   "execution_count": 1,
   "metadata": {},
   "outputs": [],
   "source": [
    "import pandas as pd\n",
    "import numpy as np\n",
    "\n",
    "from keras.models import Model\n",
    "from keras import layers\n",
    "from keras import optimizers\n",
    "from keras.layers import *   "
   ]
  },
  {
   "cell_type": "code",
   "execution_count": 12,
   "metadata": {},
   "outputs": [],
   "source": [
    "df = pd.read_excel('all_objects (1).xlsx')"
   ]
  },
  {
   "cell_type": "code",
   "execution_count": 14,
   "metadata": {},
   "outputs": [],
   "source": [
    "df.drop(columns=['Unnamed: 0', 'ball_vel_x',\n",
    "       'ball_vel_y', 'ball_vel_z', 'ball_ang_vel_x', 'ball_ang_vel_y',\n",
    "       'ball_ang_vel_z'], inplace=True)"
   ]
  },
  {
   "cell_type": "code",
   "execution_count": 16,
   "metadata": {},
   "outputs": [
    {
     "name": "stderr",
     "output_type": "stream",
     "text": [
      "/Users/zhenningyang/anaconda3/envs/tf/lib/python3.7/site-packages/ipykernel_launcher.py:5: FutureWarning: Method .as_matrix will be removed in a future version. Use .values instead.\n",
      "  \"\"\"\n"
     ]
    }
   ],
   "source": [
    "#df_input = df.drop(columns=['0_pos_x', '0_pos_y', '0_pos_z'])\n",
    "for col in df.columns:\n",
    "    df[col] = (df[col] - df[col].mean()) / df[col].std()\n",
    "    \n",
    "x_train = df.as_matrix()\n",
    "x = df['0_pos_x'].values\n",
    "y = df['0_pos_y'].values\n",
    "z = df['0_pos_z'].values\n",
    "y_train = [x, y, z]"
   ]
  },
  {
   "cell_type": "code",
   "execution_count": 34,
   "metadata": {},
   "outputs": [
    {
     "name": "stdout",
     "output_type": "stream",
     "text": [
      "__________________________________________________________________________________________________\n",
      "Layer (type)                    Output Shape         Param #     Connected to                     \n",
      "==================================================================================================\n",
      "input_3 (InputLayer)            (None, 70)           0                                            \n",
      "__________________________________________________________________________________________________\n",
      "h (Dense)                       (None, 10)           710         input_3[0][0]                    \n",
      "__________________________________________________________________________________________________\n",
      "output_x (Dense)                (None, 1)            11          h[0][0]                          \n",
      "__________________________________________________________________________________________________\n",
      "output_y (Dense)                (None, 1)            11          h[0][0]                          \n",
      "__________________________________________________________________________________________________\n",
      "output_z (Dense)                (None, 1)            11          h[0][0]                          \n",
      "==================================================================================================\n",
      "Total params: 743\n",
      "Trainable params: 743\n",
      "Non-trainable params: 0\n",
      "__________________________________________________________________________________________________\n"
     ]
    }
   ],
   "source": [
    "inp = Input((x_train.shape[1],))\n",
    "h = Dense(10, activation='sigmoid', name='h')(inp)\n",
    "out1 = Dense(1, name='output_x')(h)    \n",
    "out2 = Dense(1, name='output_y')(h)\n",
    "out3 = Dense(1, name='output_z')(h)\n",
    "model = Model(inp, [out1,out2,out3])\n",
    "model.summary()"
   ]
  },
  {
   "cell_type": "code",
   "execution_count": 35,
   "metadata": {},
   "outputs": [],
   "source": [
    "model.compile(loss='mean_squared_error', optimizer='rmsprop')\n",
    "model.fit(x_train, y_train, epochs=10, batch_size=128)"
   ]
  }
 ],
 "metadata": {
  "kernelspec": {
   "display_name": "Python 3",
   "language": "python",
   "name": "python3"
  },
  "language_info": {
   "codemirror_mode": {
    "name": "ipython",
    "version": 3
   },
   "file_extension": ".py",
   "mimetype": "text/x-python",
   "name": "python",
   "nbconvert_exporter": "python",
   "pygments_lexer": "ipython3",
   "version": "3.6.9"
  }
 },
 "nbformat": 4,
 "nbformat_minor": 2
}
