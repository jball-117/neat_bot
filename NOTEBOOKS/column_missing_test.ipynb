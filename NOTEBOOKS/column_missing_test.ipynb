{
 "cells": [
  {
   "cell_type": "code",
   "execution_count": 1,
   "metadata": {},
   "outputs": [],
   "source": [
    "import glob\n",
    "import d6tstack.combine_csv"
   ]
  },
  {
   "cell_type": "code",
   "execution_count": 2,
   "metadata": {},
   "outputs": [],
   "source": [
    "rootdir = '/home/zach/Files/Nas/ReplayModels/ReplayDataProcessing/RANKED_STANDARD/Replays/1400-1600/CSVs/'"
   ]
  },
  {
   "cell_type": "code",
   "execution_count": 3,
   "metadata": {},
   "outputs": [],
   "source": [
    "cfg_fnames = list(glob.glob(rootdir+\"/*.csv\"))"
   ]
  },
  {
   "cell_type": "code",
   "execution_count": 4,
   "metadata": {},
   "outputs": [],
   "source": [
    "c = d6tstack.combine_csv.CombinerCSV(cfg_fnames)"
   ]
  },
  {
   "cell_type": "code",
   "execution_count": 5,
   "metadata": {},
   "outputs": [
    {
     "name": "stdout",
     "output_type": "stream",
     "text": [
      "which files have unique columns?\n",
      "\n",
      "sniffing columns ok\n",
      "                                                    3_handbrake  3_ball_cam  4_handbrake  4_ball_cam  5_handbrake\n",
      "file_path                                                                                                        \n",
      "/home/zach/Files/Nas/ReplayModels/ReplayDataPro...         True        True         True        True         True\n",
      "/home/zach/Files/Nas/ReplayModels/ReplayDataPro...         True        True         True        True         True\n",
      "/home/zach/Files/Nas/ReplayModels/ReplayDataPro...         True        True         True        True         True\n",
      "/home/zach/Files/Nas/ReplayModels/ReplayDataPro...         True        True         True        True         True\n",
      "/home/zach/Files/Nas/ReplayModels/ReplayDataPro...         True        True         True        True         True\n",
      "...                                                         ...         ...          ...         ...          ...\n",
      "/home/zach/Files/Nas/ReplayModels/ReplayDataPro...         True        True         True        True         True\n",
      "/home/zach/Files/Nas/ReplayModels/ReplayDataPro...         True        True         True        True         True\n",
      "/home/zach/Files/Nas/ReplayModels/ReplayDataPro...         True        True         True        True         True\n",
      "/home/zach/Files/Nas/ReplayModels/ReplayDataPro...         True        True         True        True         True\n",
      "/home/zach/Files/Nas/ReplayModels/ReplayDataPro...         True        True         True        True         True\n",
      "\n",
      "[11263 rows x 5 columns]\n"
     ]
    }
   ],
   "source": [
    "print('which files have unique columns?')\n",
    "print('')\n",
    "print(c.is_column_present_unique())"
   ]
  },
  {
   "cell_type": "code",
   "execution_count": null,
   "metadata": {},
   "outputs": [],
   "source": []
  }
 ],
 "metadata": {
  "kernelspec": {
   "display_name": "Python 3",
   "language": "python",
   "name": "python3"
  },
  "language_info": {
   "codemirror_mode": {
    "name": "ipython",
    "version": 3
   },
   "file_extension": ".py",
   "mimetype": "text/x-python",
   "name": "python",
   "nbconvert_exporter": "python",
   "pygments_lexer": "ipython3",
   "version": "3.6.9"
  }
 },
 "nbformat": 4,
 "nbformat_minor": 2
}
