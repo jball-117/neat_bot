{
 "cells": [
  {
   "cell_type": "code",
   "execution_count": 1,
   "metadata": {},
   "outputs": [],
   "source": [
    "import carball\n",
    "import pandas as pd\n",
    "import numpy as np\n",
    "from google.protobuf.json_format import MessageToDict\n",
    "from tqdm.notebook import tqdm"
   ]
  },
  {
   "cell_type": "code",
   "execution_count": 2,
   "metadata": {},
   "outputs": [],
   "source": [
    "replay_name = '012194B14489DD6AD776F0A877C53C05.replay'\n",
    "output_name = '012194B14489DD6AD776F0A877C53C05.json'"
   ]
  },
  {
   "cell_type": "code",
   "execution_count": 3,
   "metadata": {},
   "outputs": [
    {
     "ename": "RattleTrapException",
     "evalue": "b'rattletrap-9.0.7-linux: 012194B14489DD6AD776F0A877C53C05.replay: openBinaryFile: does not exist (No such file or directory)'. Code: 1",
     "output_type": "error",
     "traceback": [
      "\u001b[0;31m---------------------------------------------------------------------------\u001b[0m",
      "\u001b[0;31mRattleTrapException\u001b[0m                       Traceback (most recent call last)",
      "\u001b[0;32m<ipython-input-3-74cce16fef6e>\u001b[0m in \u001b[0;36m<module>\u001b[0;34m\u001b[0m\n\u001b[0;32m----> 1\u001b[0;31m \u001b[0manalysis_manager\u001b[0m \u001b[0;34m=\u001b[0m \u001b[0mcarball\u001b[0m\u001b[0;34m.\u001b[0m\u001b[0manalyze_replay_file\u001b[0m\u001b[0;34m(\u001b[0m\u001b[0mreplay_name\u001b[0m\u001b[0;34m,\u001b[0m \u001b[0moutput_path\u001b[0m\u001b[0;34m=\u001b[0m\u001b[0moutput_name\u001b[0m\u001b[0;34m,\u001b[0m \u001b[0moverwrite\u001b[0m\u001b[0;34m=\u001b[0m\u001b[0;32mTrue\u001b[0m\u001b[0;34m)\u001b[0m\u001b[0;34m\u001b[0m\u001b[0;34m\u001b[0m\u001b[0m\n\u001b[0m",
      "\u001b[0;32m~/.local/lib/python3.6/site-packages/carball/decompile_replays.py\u001b[0m in \u001b[0;36manalyze_replay_file\u001b[0;34m(replay_path, output_path, overwrite, controls, sanity_check, analysis_per_goal, rattletrap_path)\u001b[0m\n\u001b[1;32m     41\u001b[0m     \u001b[0;34m:\u001b[0m\u001b[0;32mreturn\u001b[0m\u001b[0;34m:\u001b[0m \u001b[0mAnalysisManager\u001b[0m \u001b[0mof\u001b[0m \u001b[0mgame\u001b[0m \u001b[0;32mwith\u001b[0m \u001b[0manalysis\u001b[0m\u001b[0;34m.\u001b[0m\u001b[0;34m\u001b[0m\u001b[0;34m\u001b[0m\u001b[0m\n\u001b[1;32m     42\u001b[0m     \"\"\"\n\u001b[0;32m---> 43\u001b[0;31m     \u001b[0m_json\u001b[0m \u001b[0;34m=\u001b[0m \u001b[0mdecompile_replay\u001b[0m\u001b[0;34m(\u001b[0m\u001b[0mreplay_path\u001b[0m\u001b[0;34m,\u001b[0m \u001b[0moutput_path\u001b[0m\u001b[0;34m=\u001b[0m\u001b[0moutput_path\u001b[0m\u001b[0;34m,\u001b[0m \u001b[0moverwrite\u001b[0m\u001b[0;34m=\u001b[0m\u001b[0moverwrite\u001b[0m\u001b[0;34m,\u001b[0m \u001b[0mrattletrap_path\u001b[0m\u001b[0;34m=\u001b[0m\u001b[0mrattletrap_path\u001b[0m\u001b[0;34m)\u001b[0m\u001b[0;34m\u001b[0m\u001b[0;34m\u001b[0m\u001b[0m\n\u001b[0m\u001b[1;32m     44\u001b[0m     \u001b[0mgame\u001b[0m \u001b[0;34m=\u001b[0m \u001b[0mGame\u001b[0m\u001b[0;34m(\u001b[0m\u001b[0;34m)\u001b[0m\u001b[0;34m\u001b[0m\u001b[0;34m\u001b[0m\u001b[0m\n\u001b[1;32m     45\u001b[0m     \u001b[0mgame\u001b[0m\u001b[0;34m.\u001b[0m\u001b[0minitialize\u001b[0m\u001b[0;34m(\u001b[0m\u001b[0mloaded_json\u001b[0m\u001b[0;34m=\u001b[0m\u001b[0m_json\u001b[0m\u001b[0;34m)\u001b[0m\u001b[0;34m\u001b[0m\u001b[0;34m\u001b[0m\u001b[0m\n",
      "\u001b[0;32m~/.local/lib/python3.6/site-packages/carball/decompile_replays.py\u001b[0m in \u001b[0;36mdecompile_replay\u001b[0;34m(replay_path, output_path, overwrite, rattletrap_path)\u001b[0m\n\u001b[1;32m     23\u001b[0m     \u001b[0;34m:\u001b[0m\u001b[0;32mreturn\u001b[0m\u001b[0;34m:\u001b[0m \u001b[0mThe\u001b[0m \u001b[0mjson\u001b[0m \u001b[0mcreated\u001b[0m \u001b[0;32mfrom\u001b[0m \u001b[0mrattle\u001b[0m \u001b[0mtrap\u001b[0m\u001b[0;34m.\u001b[0m\u001b[0;34m\u001b[0m\u001b[0;34m\u001b[0m\u001b[0m\n\u001b[1;32m     24\u001b[0m     \"\"\"\n\u001b[0;32m---> 25\u001b[0;31m     \u001b[0;32mreturn\u001b[0m \u001b[0mrun_rattletrap\u001b[0m\u001b[0;34m.\u001b[0m\u001b[0mdecompile_replay\u001b[0m\u001b[0;34m(\u001b[0m\u001b[0mreplay_path\u001b[0m\u001b[0;34m,\u001b[0m \u001b[0moutput_path\u001b[0m\u001b[0;34m,\u001b[0m \u001b[0moverwrite\u001b[0m\u001b[0;34m,\u001b[0m \u001b[0mrattletrap_path\u001b[0m\u001b[0;34m)\u001b[0m\u001b[0;34m\u001b[0m\u001b[0;34m\u001b[0m\u001b[0m\n\u001b[0m\u001b[1;32m     26\u001b[0m \u001b[0;34m\u001b[0m\u001b[0m\n\u001b[1;32m     27\u001b[0m \u001b[0;34m\u001b[0m\u001b[0m\n",
      "\u001b[0;32m~/.local/lib/python3.6/site-packages/carball/rattletrap/run_rattletrap.py\u001b[0m in \u001b[0;36mdecompile_replay\u001b[0;34m(replay_path, output_path, overwrite, rattletrap_path)\u001b[0m\n\u001b[1;32m     85\u001b[0m     \u001b[0;32mif\u001b[0m \u001b[0mlogger\u001b[0m\u001b[0;34m.\u001b[0m\u001b[0misEnabledFor\u001b[0m\u001b[0;34m(\u001b[0m\u001b[0mlogging\u001b[0m\u001b[0;34m.\u001b[0m\u001b[0mDEBUG\u001b[0m\u001b[0;34m)\u001b[0m\u001b[0;34m:\u001b[0m\u001b[0;34m\u001b[0m\u001b[0;34m\u001b[0m\u001b[0m\n\u001b[1;32m     86\u001b[0m         \u001b[0mlogger\u001b[0m\u001b[0;34m.\u001b[0m\u001b[0mdebug\u001b[0m\u001b[0;34m(\u001b[0m\u001b[0;34m\" \"\u001b[0m\u001b[0;34m.\u001b[0m\u001b[0mjoin\u001b[0m\u001b[0;34m(\u001b[0m\u001b[0mcommand\u001b[0m\u001b[0;34m)\u001b[0m\u001b[0;34m)\u001b[0m\u001b[0;34m\u001b[0m\u001b[0;34m\u001b[0m\u001b[0m\n\u001b[0;32m---> 87\u001b[0;31m     \u001b[0;32mreturn\u001b[0m \u001b[0mrun_rattletrap_command\u001b[0m\u001b[0;34m(\u001b[0m\u001b[0mcommand\u001b[0m\u001b[0;34m,\u001b[0m \u001b[0moutput_path\u001b[0m\u001b[0;34m)\u001b[0m\u001b[0;34m\u001b[0m\u001b[0;34m\u001b[0m\u001b[0m\n\u001b[0m",
      "\u001b[0;32m~/.local/lib/python3.6/site-packages/carball/rattletrap/run_rattletrap.py\u001b[0m in \u001b[0;36mrun_rattletrap_command\u001b[0;34m(command, output_path)\u001b[0m\n\u001b[1;32m     57\u001b[0m         \u001b[0;31m# an error happened!\u001b[0m\u001b[0;34m\u001b[0m\u001b[0;34m\u001b[0m\u001b[0;34m\u001b[0m\u001b[0m\n\u001b[1;32m     58\u001b[0m         \u001b[0merr_msg\u001b[0m \u001b[0;34m=\u001b[0m \u001b[0;34m\"%s. Code: %s\"\u001b[0m \u001b[0;34m%\u001b[0m \u001b[0;34m(\u001b[0m\u001b[0merror\u001b[0m\u001b[0;34m.\u001b[0m\u001b[0mstrip\u001b[0m\u001b[0;34m(\u001b[0m\u001b[0;34m)\u001b[0m\u001b[0;34m,\u001b[0m \u001b[0mproc\u001b[0m\u001b[0;34m.\u001b[0m\u001b[0mreturncode\u001b[0m\u001b[0;34m)\u001b[0m\u001b[0;34m\u001b[0m\u001b[0;34m\u001b[0m\u001b[0m\n\u001b[0;32m---> 59\u001b[0;31m         \u001b[0;32mraise\u001b[0m \u001b[0mRattleTrapException\u001b[0m\u001b[0;34m(\u001b[0m\u001b[0merr_msg\u001b[0m\u001b[0;34m)\u001b[0m\u001b[0;34m\u001b[0m\u001b[0;34m\u001b[0m\u001b[0m\n\u001b[0m\u001b[1;32m     60\u001b[0m     \u001b[0;32melif\u001b[0m \u001b[0mlen\u001b[0m\u001b[0;34m(\u001b[0m\u001b[0merror\u001b[0m\u001b[0;34m)\u001b[0m\u001b[0;34m:\u001b[0m\u001b[0;34m\u001b[0m\u001b[0;34m\u001b[0m\u001b[0m\n\u001b[1;32m     61\u001b[0m         \u001b[0merr_msg\u001b[0m \u001b[0;34m=\u001b[0m \u001b[0;34m\"%s. Code: %s\"\u001b[0m \u001b[0;34m%\u001b[0m \u001b[0;34m(\u001b[0m\u001b[0merror\u001b[0m\u001b[0;34m.\u001b[0m\u001b[0mstrip\u001b[0m\u001b[0;34m(\u001b[0m\u001b[0;34m)\u001b[0m\u001b[0;34m,\u001b[0m \u001b[0mproc\u001b[0m\u001b[0;34m.\u001b[0m\u001b[0mreturncode\u001b[0m\u001b[0;34m)\u001b[0m\u001b[0;34m\u001b[0m\u001b[0;34m\u001b[0m\u001b[0m\n",
      "\u001b[0;31mRattleTrapException\u001b[0m: b'rattletrap-9.0.7-linux: 012194B14489DD6AD776F0A877C53C05.replay: openBinaryFile: does not exist (No such file or directory)'. Code: 1"
     ]
    }
   ],
   "source": [
    "analysis_manager = carball.analyze_replay_file(replay_name, output_path=output_name, overwrite=True)"
   ]
  },
  {
   "cell_type": "code",
   "execution_count": null,
   "metadata": {},
   "outputs": [],
   "source": [
    "proto_game = analysis_manager.get_protobuf_data()"
   ]
  },
  {
   "cell_type": "code",
   "execution_count": null,
   "metadata": {},
   "outputs": [],
   "source": [
    "df = analysis_manager.get_data_frame()"
   ]
  },
  {
   "cell_type": "code",
   "execution_count": null,
   "metadata": {},
   "outputs": [],
   "source": [
    "dict_game = MessageToDict(proto_game)"
   ]
  },
  {
   "cell_type": "code",
   "execution_count": null,
   "metadata": {},
   "outputs": [],
   "source": [
    "player_team = {}\n",
    "best_score = 0\n",
    "for i in dict_game['players']:\n",
    "    # indentifies MVP\n",
    "    if i['score'] > best_score:\n",
    "        best_score = i['score']\n",
    "    if i['isOrange']:\n",
    "        player_team.update({i['name']: tuple([i['score'], 'orange'])})\n",
    "    else:\n",
    "        player_team.update({i['name']: tuple([i['score'], 'blue'])})\n",
    "        \n",
    "print(\"###########################\\nTeams:\")\n",
    "for name, score in player_team.items():\n",
    "    print(name + \" (Scored \" + str(score[0]) + \") \" + \": \" + score[1])\n",
    "print('###########################\\n')\n",
    "print(\"*Best player*:\")\n",
    "\n",
    "ordered_playas = []\n",
    "for name, score in player_team.items():\n",
    "    if score[0] == best_score:\n",
    "        ordered_playas.append(name)\n",
    "        print(name + \": \" + str(score[0]))"
   ]
  },
  {
   "cell_type": "code",
   "execution_count": null,
   "metadata": {
    "scrolled": false
   },
   "outputs": [],
   "source": [
    "with pd.option_context('display.max_rows', None, 'display.max_columns', None):  # more options can be specified also\n",
    "    print(df.iloc[0])"
   ]
  },
  {
   "cell_type": "code",
   "execution_count": null,
   "metadata": {},
   "outputs": [],
   "source": [
    "playas = list(list(df.columns.levels)[0])\n",
    "playas.remove('ball')\n",
    "playas.remove('game')\n",
    "print(playas)"
   ]
  },
  {
   "cell_type": "code",
   "execution_count": null,
   "metadata": {},
   "outputs": [],
   "source": [
    "for playa in playas:\n",
    "    if playa not in ordered_playas and player_team[playa][1] == player_team[ordered_playas[0]][1]:\n",
    "        ordered_playas.append(playa)\n",
    "\n",
    "for playa in playas:\n",
    "    if playa not in ordered_playas and player_team[playa][1] != player_team[ordered_playas[0]][1]:\n",
    "        ordered_playas.append(playa)\n",
    "        \n",
    "print(ordered_playas)"
   ]
  },
  {
   "cell_type": "code",
   "execution_count": null,
   "metadata": {},
   "outputs": [],
   "source": [
    "for playa in ordered_playas:\n",
    "    print(df[playa].columns)\n",
    "print(type(df[playa]))"
   ]
  },
  {
   "cell_type": "code",
   "execution_count": null,
   "metadata": {},
   "outputs": [],
   "source": [
    "########################### MAKING SURE EACH LEVEL IS SAME LENGTH\n",
    "length = len(df['ball'])\n",
    "if length != len(df['game']):\n",
    "    print(\"BAD\")\n",
    "for playa in ordered_playas:\n",
    "    if len(df[playa]) != length:\n",
    "        print(\"BAD\")\n",
    "###########################"
   ]
  },
  {
   "cell_type": "code",
   "execution_count": null,
   "metadata": {},
   "outputs": [],
   "source": [
    "## MAKING NEW SINGLE LEVEL DF FOR TRAINING ##\n",
    "## PLAYER 0, 1, AND 1 ARE HIGHEST SCORING PLAYER'S TEAM WHILE 3, 4, AND 5 ARE ON OPPOSITE TEAM ##\n",
    "#first = True\n",
    "player_desired = 0\n",
    "\n",
    "print('player ' + str(player_desired) + ' is ' + ordered_playas[player_desired])\n",
    "single_level_df = df[ordered_playas[player_desired]]\n",
    "single_level_df.drop(columns=['rot_x','rot_y','rot_z','vel_x','vel_y','vel_z','ang_vel_x','ang_vel_y','ang_vel_z','ping','throttle','steer','handbrake','ball_cam','boost','boost_active','jump_active','double_jump_active','dodge_active','boost_collect'], inplace=True)\n",
    "single_level_df.rename(columns={'pos_x': str(player_desired)+'_pos_x', 'pos_y': str(player_desired)+'_pos_y', 'pos_z': str(player_desired)+'_pos_z'}, inplace=True)\n",
    "for i, playa in enumerate(ordered_playas):\n",
    "    if player_desired == i:\n",
    "        continue\n",
    "    piece = df[playa]\n",
    "    piece.drop(columns=['ping','throttle','steer','handbrake','ball_cam','boost','boost_active','jump_active','double_jump_active','dodge_active','boost_collect'], inplace=True)\n",
    "    piece.rename(columns={'pos_x': str(i)+'_pos_x', 'pos_y': str(i)+'_pos_y', 'pos_z': str(i)+'_pos_z', 'rot_x': str(i)+'_rot_x', 'rot_y': str(i)+'_rot_y', 'rot_z': str(i)+'_rot_z', 'vel_x': str(i)+'_vel_x', 'vel_y': str(i)+'_vel_y', 'vel_z': str(i)+'_vel_z', 'ang_vel_x': str(i)+'_ang_vel_x', 'ang_vel_y': str(i)+'_ang_vel_y', 'ang_vel_z': str(i)+'_ang_vel_z'}, inplace=True)\n",
    "    single_level_df = single_level_df.join(piece)\n",
    "    print('player ' + str(i) + ' is ' + playa)\n",
    "    \n",
    "ball_data = df['ball']\n",
    "ball_data.drop(columns=['hit_team_no'], inplace=True)\n",
    "ball_data.rename(columns={'pos_x': 'ball_pos_x', 'pos_y': 'ball_pos_y', 'pos_z': 'ball_pos_z', 'rot_x': 'ball_rot_x', 'rot_y': 'ball_rot_y', 'rot_z': 'ball_rot_z', 'vel_x': 'ball_vel_x', 'vel_y': 'ball_vel_y', 'vel_z': 'ball_vel_z', 'ang_vel_x': 'ball_ang_vel_x', 'ang_vel_y': 'ball_ang_vel_y', 'ang_vel_z': 'ball_ang_vel_z'}, inplace=True)\n",
    "single_level_df = single_level_df.join(ball_data)\n",
    "single_level_df['seconds_remaining'] = df['game']['seconds_remaining']"
   ]
  },
  {
   "cell_type": "code",
   "execution_count": null,
   "metadata": {},
   "outputs": [],
   "source": [
    "print(single_level_df.columns)\n",
    "print(len(single_level_df))"
   ]
  },
  {
   "cell_type": "code",
   "execution_count": null,
   "metadata": {},
   "outputs": [],
   "source": [
    "## CHECK HOW MANY NAN EXIST ## \n",
    "num_nans = len(single_level_df) - len(single_level_df.dropna())\n",
    "print(str(num_nans), 'frames lost due to demolitions or players leaving')\n",
    "single_level_df.dropna(inplace=True)\n",
    "single_level_df.reset_index(drop=True, inplace=True)"
   ]
  },
  {
   "cell_type": "code",
   "execution_count": null,
   "metadata": {},
   "outputs": [],
   "source": [
    "## SPLIT POSITIONING INTO SEGMENTS ##\n",
    "## 8 X SEGMENTS, 10 Y SEGMENTS, 7 Z SEGMENTS\n",
    "## THIS GIVES 1024 (X) BY 1024 (Y) BY 292 (Z) CUBES\n",
    "\n",
    "def x_segment(x):\n",
    "    seg = -4096\n",
    "    while(True):\n",
    "        if x >= seg and x < seg+1024:\n",
    "            return (seg+(seg+1024))/2\n",
    "        seg += 1024\n",
    "        \n",
    "def y_segment(y):\n",
    "    seg = -5120\n",
    "    if y < -5120:\n",
    "        return -5121 # IN BLUE TEAM GOAL\n",
    "    elif y > 5120:\n",
    "        return 5121 # IN ORANGE TEAM GOAL\n",
    "    while(True):\n",
    "        if y >= seg and y < seg+1024:\n",
    "            return (seg+(seg+1024))/2\n",
    "        seg += 1024\n",
    "        \n",
    "def z_segment(z):\n",
    "    seg = 0\n",
    "    while(True):\n",
    "        if z >= seg and z < seg+292:\n",
    "            return (seg+(seg+292))/2\n",
    "        seg += 292\n",
    "        \n",
    "length = len(single_level_df)\n",
    "for i in tqdm(single_level_df.index):\n",
    "    single_level_df.at[i, '0_pos_x'] = x_segment(single_level_df.at[i, '0_pos_x'])\n",
    "    single_level_df.at[i, '0_pos_y'] = y_segment(single_level_df.at[i, '0_pos_y'])\n",
    "    single_level_df.at[i, '0_pos_z'] = z_segment(single_level_df.at[i, '0_pos_z'])"
   ]
  },
  {
   "cell_type": "code",
   "execution_count": null,
   "metadata": {},
   "outputs": [],
   "source": [
    "with pd.option_context('display.max_rows', None, 'display.max_columns', None):  # more options can be specified also\n",
    "    print(single_level_df.iloc[0])"
   ]
  },
  {
   "cell_type": "code",
   "execution_count": null,
   "metadata": {},
   "outputs": [],
   "source": [
    "single_level_df.to_excel('all_objects.xlsx')"
   ]
  },
  {
   "cell_type": "code",
   "execution_count": null,
   "metadata": {},
   "outputs": [],
   "source": [
    "## NEXT STEPS ARE TO FUNCTIONALIZE DF NORMALIZATION SO ALL REPLAYS CAN BE COMBINED INTO ONE DF ##"
   ]
  }
 ],
 "metadata": {
  "kernelspec": {
   "display_name": "Python 3",
   "language": "python",
   "name": "python3"
  },
  "language_info": {
   "codemirror_mode": {
    "name": "ipython",
    "version": 3
   },
   "file_extension": ".py",
   "mimetype": "text/x-python",
   "name": "python",
   "nbconvert_exporter": "python",
   "pygments_lexer": "ipython3",
   "version": "3.6.9"
  }
 },
 "nbformat": 4,
 "nbformat_minor": 2
}
