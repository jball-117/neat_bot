{
 "cells": [
  {
   "cell_type": "code",
   "execution_count": 1,
   "metadata": {},
   "outputs": [],
   "source": [
    "## COMBINES DATAFRAMES OF PARSED REPLAY FILES ##\n",
    "import pandas as pd\n",
    "import numpy as np\n",
    "from tqdm import tqdm\n",
    "import os\n",
    "\n",
    "## NN shouldn't care about game time in OT\n",
    "def fix_ot_secs(df):\n",
    "    if len(df[df['seconds_remaining'] == -1.0]) > 0:\n",
    "        print('already fixed')\n",
    "        return df\n",
    "    i=0\n",
    "    try:\n",
    "        while df.at[i, 'seconds_remaining'] >= df.at[i+1, 'seconds_remaining']:\n",
    "            i += 1\n",
    "        i += 1\n",
    "        for j in range(i, len(df)):\n",
    "            df.at[j, 'seconds_remaining'] = -1\n",
    "        return df\n",
    "    except:\n",
    "        return df"
   ]
  },
  {
   "cell_type": "code",
   "execution_count": null,
   "metadata": {},
   "outputs": [],
   "source": [
    "## combining replays ##\n",
    "#rootdir = '/home/zach/Files/Nas/Replays'\n",
    "rootdir = '/home/zach/Files/ReplayModels/ReplayDataProcessing/RANKED_STANDARD/Replays/1400-1600/CSVs'\n",
    "for root, dirs, files in os.walk(rootdir):\n",
    "    all_dfs = pd.read_csv(rootdir+\"/\"+files[0])\n",
    "    all_dfs.drop(columns=['Unnamed: 0'], inplace=True)\n",
    "    all_dfs = fix_ot_secs(all_dfs)\n",
    "    all_dfs['0_pos_x'] = all_dfs['0_pos_x'].shift(-1)\n",
    "    all_dfs['0_pos_y'] = all_dfs['0_pos_y'].shift(-1)\n",
    "    all_dfs['0_pos_z'] = all_dfs['0_pos_z'].shift(-1)\n",
    "    all_dfs = all_dfs[:-1]\n",
    "    for filename in tqdm(files[1:2]):\n",
    "        if not filename.endswith('.csv'):\n",
    "            print(\"\\n\", filename, \"not a csv\\n\")\n",
    "            continue\n",
    "        piece = pd.read_csv(rootdir+\"/\"+filename)\n",
    "        piece.drop(columns=['Unnamed: 0'], inplace=True)\n",
    "        piece = fix_ot_secs(piece)\n",
    "        piece['0_pos_x'] = piece['0_pos_x'].shift(-1)\n",
    "        piece['0_pos_y'] = piece['0_pos_y'].shift(-1)\n",
    "        piece['0_pos_z'] = piece['0_pos_z'].shift(-1)\n",
    "        piece = piece[:-1]\n",
    "        all_dfs = all_dfs.append(piece, ignore_index=True)"
   ]
  },
  {
   "cell_type": "code",
   "execution_count": null,
   "metadata": {},
   "outputs": [],
   "source": []
  }
 ],
 "metadata": {
  "kernelspec": {
   "display_name": "Python 3",
   "language": "python",
   "name": "python3"
  },
  "language_info": {
   "codemirror_mode": {
    "name": "ipython",
    "version": 3
   },
   "file_extension": ".py",
   "mimetype": "text/x-python",
   "name": "python",
   "nbconvert_exporter": "python",
   "pygments_lexer": "ipython3",
   "version": "3.6.9"
  }
 },
 "nbformat": 4,
 "nbformat_minor": 2
}
