{
 "cells": [
  {
   "cell_type": "code",
   "execution_count": null,
   "metadata": {},
   "outputs": [],
   "source": [
    "import dask.dataframe as dd\n",
    "from dask.diagnostics import ProgressBar\n",
    "import numpy as np\n",
    "from keras.models import Model, Sequential\n",
    "from keras.wrappers.scikit_learn import KerasRegressor\n",
    "from sklearn.model_selection import GridSearchCV\n",
    "from keras.layers import *\n",
    "import joblib\n",
    "\n",
    "ProgressBar().register()\n",
    "\n",
    "GRANULARITY = 0 # edit this. 1 -> 8x_10y_7z, .5 -> 16x_20y_14z, 0 -> exact\n",
    "FRAMES_AHEAD = 15"
   ]
  },
  {
   "cell_type": "code",
   "execution_count": null,
   "metadata": {},
   "outputs": [],
   "source": [
    "## NN shouldn't care about game time in OT\n",
    "def fix_ot_secs(df):\n",
    "    if len(df[df['seconds_remaining'] == -1.0]) > 0:\n",
    "        print('already fixed')\n",
    "        return df\n",
    "    i=0\n",
    "    try:\n",
    "        while df.at[i, 'seconds_remaining'] >= df.at[i+1, 'seconds_remaining']:\n",
    "            i += 1\n",
    "        i += 1\n",
    "        for j in range(i, len(df)):\n",
    "            df.at[j, 'seconds_remaining'] = -1\n",
    "        return df\n",
    "    except:\n",
    "        return df\n",
    "\n",
    "def manip(df):\n",
    "    df = df.drop(columns=['Unnamed: 0'])\n",
    "    df = fix_ot_secs(df)\n",
    "    df['0_pos_x_nf'] = df['0_pos_x'].shift(-1*FRAMES_AHEAD)\n",
    "    df['0_pos_y_nf'] = df['0_pos_y'].shift(-1*FRAMES_AHEAD)\n",
    "    df['0_pos_z_nf'] = df['0_pos_z'].shift(-1*FRAMES_AHEAD)\n",
    "    df = df.head(len(df.index)-FRAMES_AHEAD)\n",
    "    return df"
   ]
  },
  {
   "cell_type": "code",
   "execution_count": null,
   "metadata": {},
   "outputs": [],
   "source": [
    "## combining replays ##\n",
    "if GRANULARITY == 1:\n",
    "    rootdir = '/home/zach/Files/Nas/ReplayModels/ReplayDataProcessing/RANKED_STANDARD/Replays/1400-1600/CSVs_8x_10y_7z/dask_CSVs'\n",
    "elif GRANULARITY == .5:\n",
    "    rootdir = '/home/zach/Files/Nas/ReplayModels/ReplayDataProcessing/RANKED_STANDARD/Replays/1400-1600/CSVs_16x_20y_14z/dask_CSVs'\n",
    "elif GRANULARITY == 0:\n",
    "    rootdir = '/home/zach/Files/Nas/ReplayModels/ReplayDataProcessing/RANKED_STANDARD/Replays/1400-1600/CSVs/dask_CSVs'"
   ]
  },
  {
   "cell_type": "code",
   "execution_count": null,
   "metadata": {},
   "outputs": [],
   "source": [
    "all_dfs = dd.read_csv(rootdir+\"/*.csv\")"
   ]
  },
  {
   "cell_type": "code",
   "execution_count": null,
   "metadata": {},
   "outputs": [],
   "source": [
    "all_dfs = all_dfs.map_partitions(manip)"
   ]
  },
  {
   "cell_type": "code",
   "execution_count": null,
   "metadata": {},
   "outputs": [],
   "source": [
    "all_dfs = all_dfs.drop(columns=['Unnamed: 0'], errors=\"ignore\")\n",
    "rem_cols = []\n",
    "for col in all_dfs.columns:\n",
    "    if 'steer' in col or 'handbrake' in col \\\n",
    "    or 'active' in col or 'collect' in col \\\n",
    "    or 'ball_cam' in col or 'throttle' in col:\n",
    "        rem_cols.append(col)\n",
    "rem_cols.append(\"filepath\")\n",
    "rem_cols.append(\"filename\")\n",
    "all_dfs = all_dfs.drop(columns=rem_cols, errors=\"ignore\")\n",
    "all_dfs = all_dfs.dropna()\n",
    "all_dfs = all_dfs.reset_index(drop=True)"
   ]
  },
  {
   "cell_type": "code",
   "execution_count": null,
   "metadata": {},
   "outputs": [],
   "source": [
    "for col in all_dfs.columns:\n",
    "    all_dfs[col] = (all_dfs[col] - all_dfs[col].mean()) / all_dfs[col].std()"
   ]
  },
  {
   "cell_type": "code",
   "execution_count": null,
   "metadata": {},
   "outputs": [],
   "source": [
    "input_cols = [x for x in all_dfs.columns if x != '0_pos_x' \\\n",
    "              and x != '0_pos_y' and x != '0_pos_z']"
   ]
  },
  {
   "cell_type": "code",
   "execution_count": null,
   "metadata": {},
   "outputs": [],
   "source": [
    "#x_train = all_dfs.filter(items=input_cols)\n",
    "x_train = all_dfs.drop(columns=['0_pos_x', '0_pos_y', '0_pos_z'], errors=\"ignore\")"
   ]
  },
  {
   "cell_type": "code",
   "execution_count": null,
   "metadata": {},
   "outputs": [],
   "source": [
    "#y_train = all_dfs.filter(items=['0_pos_x', '0_pos_y', '0_pos_z'])\n",
    "y_train = all_dfs.drop(columns=input_cols, errors=\"ignore\")"
   ]
  },
  {
   "cell_type": "code",
   "execution_count": null,
   "metadata": {},
   "outputs": [],
   "source": [
    "import dask.array as da"
   ]
  },
  {
   "cell_type": "code",
   "execution_count": null,
   "metadata": {},
   "outputs": [],
   "source": [
    "x_train = da.from_array(np.asarray(x_train)).compute()"
   ]
  },
  {
   "cell_type": "code",
   "execution_count": null,
   "metadata": {},
   "outputs": [],
   "source": [
    "y_train = da.from_array(np.asarray(y_train)).compute()"
   ]
  },
  {
   "cell_type": "code",
   "execution_count": null,
   "metadata": {},
   "outputs": [],
   "source": [
    "def create_model(layers=[45], activation='sigmoid', optimizer='rmsprop'):\n",
    "    model = Sequential()\n",
    "    for i, nodes in enumerate(layers):\n",
    "        if i == 0:\n",
    "            model.add(Dense(nodes, input_dim=x_train.shape[1]))\n",
    "        else:\n",
    "            model.add(Dense(nodes))\n",
    "        model.add(Activation(activation))\n",
    "    model.add(Dense(3))\n",
    "    model.compile(loss='mean_squared_error', optimizer=optimizer)\n",
    "    return model"
   ]
  },
  {
   "cell_type": "code",
   "execution_count": null,
   "metadata": {},
   "outputs": [],
   "source": [
    "print(\"CONSTRUCTING...\")\n",
    "model = KerasRegressor(build_fn=create_model, verbose=2)\n",
    "\n",
    "layers = [[46], [68, 23]]\n",
    "activations = ['relu']\n",
    "batch_size = [128]\n",
    "epochs = [90]\n",
    "optimizers = ['rmsprop']"
   ]
  },
  {
   "cell_type": "code",
   "execution_count": null,
   "metadata": {},
   "outputs": [],
   "source": [
    "param_grid = dict(layers=layers, activation=activations, batch_size=batch_size,\n",
    "                  epochs=epochs, optimizer=optimizers)"
   ]
  },
  {
   "cell_type": "code",
   "execution_count": null,
   "metadata": {},
   "outputs": [],
   "source": [
    "grid = GridSearchCV(estimator=model, param_grid=param_grid,\n",
    "                    scoring='neg_mean_squared_error',\n",
    "                    verbose=5, cv=5)"
   ]
  },
  {
   "cell_type": "code",
   "execution_count": null,
   "metadata": {},
   "outputs": [],
   "source": [
    "print(\"FITTING...\")\n",
    "grid_result = grid.fit(x_train, y_train)"
   ]
  },
  {
   "cell_type": "code",
   "execution_count": null,
   "metadata": {},
   "outputs": [],
   "source": [
    "print(\"SAVING...\")\n",
    "joblib.dump(grid_result, '/home/zach/Files/Nas/gd_obj_'+str(x_train.shape[0])+'_frames.pkl')\n",
    "\n",
    "print(grid_result.best_score_)\n",
    "print()\n",
    "print(grid_result.best_params_)"
   ]
  }
 ],
 "metadata": {
  "kernelspec": {
   "display_name": "Python 3",
   "language": "python",
   "name": "python3"
  },
  "language_info": {
   "codemirror_mode": {
    "name": "ipython",
    "version": 3
   },
   "file_extension": ".py",
   "mimetype": "text/x-python",
   "name": "python",
   "nbconvert_exporter": "python",
   "pygments_lexer": "ipython3",
   "version": "3.6.9"
  }
 },
 "nbformat": 4,
 "nbformat_minor": 2
}
