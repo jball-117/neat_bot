{
 "cells": [
  {
   "cell_type": "code",
   "execution_count": 1,
   "metadata": {},
   "outputs": [],
   "source": [
    "import carball\n",
    "import pandas as pd\n",
    "import numpy as np\n",
    "from google.protobuf.json_format import MessageToDict\n",
    "from tqdm.notebook import tqdm"
   ]
  },
  {
   "cell_type": "code",
   "execution_count": 2,
   "metadata": {},
   "outputs": [],
   "source": [
    "replay_name = '012194B14489DD6AD776F0A877C53C05.replay'\n",
    "output_name = '012194B14489DD6AD776F0A877C53C05.json'"
   ]
  },
  {
   "cell_type": "code",
   "execution_count": 3,
   "metadata": {},
   "outputs": [
    {
     "name": "stderr",
     "output_type": "stream",
     "text": [
      "Player RLCS Admin as player has no MatchScore.\n",
      "Score is not found for player\n",
      "Ignoring player: RLCS Admin as player has no team.\n",
      "Player RLCS Observer 2 as player has no MatchScore.\n",
      "Score is not found for player\n",
      "Ignoring player: RLCS Observer 2 as player has no team.\n",
      "Player RLCS Observer 1 as player has no MatchScore.\n",
      "Score is not found for player\n",
      "Ignoring player: RLCS Observer 1 as player has no team.\n",
      "Player RLCS Observer 3 as player has no MatchScore.\n",
      "Score is not found for player\n",
      "Ignoring player: RLCS Observer 3 as player has no team.\n",
      "Goal is not shot: frame 5076 by jstn.\n",
      "The player never hit the ball during the \"carry\"\n",
      "The player never hit the ball during the \"carry\"\n",
      "The player never hit the ball during the \"carry\"\n"
     ]
    }
   ],
   "source": [
    "analysis_manager = carball.analyze_replay_file(replay_name, output_path=output_name, overwrite=True)"
   ]
  },
  {
   "cell_type": "code",
   "execution_count": 4,
   "metadata": {},
   "outputs": [],
   "source": [
    "proto_game = analysis_manager.get_protobuf_data()"
   ]
  },
  {
   "cell_type": "code",
   "execution_count": 5,
   "metadata": {},
   "outputs": [],
   "source": [
    "df = analysis_manager.get_data_frame()"
   ]
  },
  {
   "cell_type": "code",
   "execution_count": 6,
   "metadata": {},
   "outputs": [],
   "source": [
    "dict_game = MessageToDict(proto_game)"
   ]
  },
  {
   "cell_type": "code",
   "execution_count": 7,
   "metadata": {},
   "outputs": [
    {
     "name": "stdout",
     "output_type": "stream",
     "text": [
      "###########################\n",
      "Teams:\n",
      "Scrub Killa (Scored 420) : orange\n",
      "jstn. (Scored 493) : blue\n",
      "Fairy Peak! (Scored 411) : orange\n",
      "Turbopolsa (Scored 228) : blue\n",
      "GarrettG (Scored 256) : blue\n",
      "Kaydop (Scored 158) : orange\n",
      "###########################\n",
      "\n",
      "*Best player*:\n",
      "jstn.: 493\n"
     ]
    }
   ],
   "source": [
    "player_team = {}\n",
    "best_score = 0\n",
    "for i in dict_game['players']:\n",
    "    # indentifies MVP\n",
    "    if i['score'] > best_score:\n",
    "        best_score = i['score']\n",
    "    if i['isOrange']:\n",
    "        player_team.update({i['name']: tuple([i['score'], 'orange'])})\n",
    "    else:\n",
    "        player_team.update({i['name']: tuple([i['score'], 'blue'])})\n",
    "        \n",
    "print(\"###########################\\nTeams:\")\n",
    "for name, score in player_team.items():\n",
    "    print(name + \" (Scored \" + str(score[0]) + \") \" + \": \" + score[1])\n",
    "print('###########################\\n')\n",
    "print(\"*Best player*:\")\n",
    "\n",
    "ordered_playas = []\n",
    "for name, score in player_team.items():\n",
    "    if score[0] == best_score:\n",
    "        ordered_playas.append(name)\n",
    "        print(name + \": \" + str(score[0]))"
   ]
  },
  {
   "cell_type": "code",
   "execution_count": 8,
   "metadata": {
    "scrolled": false
   },
   "outputs": [
    {
     "name": "stdout",
     "output_type": "stream",
     "text": [
      "Fairy Peak!  ping                                      2\n",
      "             pos_x                                     0\n",
      "             pos_y                                  4608\n",
      "             pos_z                                 17.01\n",
      "             rot_x                            0.00954445\n",
      "             rot_y                               -1.5708\n",
      "             rot_z                          -3.69558e-08\n",
      "             vel_x                                     0\n",
      "             vel_y                                     0\n",
      "             vel_z                                   2.1\n",
      "             ang_vel_x                               0.6\n",
      "             ang_vel_y                                 0\n",
      "             ang_vel_z                                 0\n",
      "             throttle                                NaN\n",
      "             steer                                   NaN\n",
      "             handbrake                              None\n",
      "             ball_cam                               None\n",
      "             dodge_active                          False\n",
      "             double_jump_active                    False\n",
      "             boost                                    85\n",
      "             boost_active                          False\n",
      "             jump_active                           False\n",
      "             boost_collect                           NaN\n",
      "GarrettG     ping                                      2\n",
      "             pos_x                                     0\n",
      "             pos_y                                 -4608\n",
      "             pos_z                                 17.01\n",
      "             rot_x                            0.00954445\n",
      "             rot_y                               1.57079\n",
      "             rot_z                          -3.69558e-08\n",
      "             vel_x                                     0\n",
      "             vel_y                                     0\n",
      "             vel_z                                   2.1\n",
      "             ang_vel_x                              -0.6\n",
      "             ang_vel_y                                 0\n",
      "             ang_vel_z                                 0\n",
      "             throttle                                238\n",
      "             steer                                   NaN\n",
      "             handbrake                              None\n",
      "             ball_cam                               True\n",
      "             jump_active                           False\n",
      "             double_jump_active                    False\n",
      "             boost                                    85\n",
      "             boost_active                          False\n",
      "             dodge_active                          False\n",
      "             boost_collect                           NaN\n",
      "Kaydop       ping                                      2\n",
      "             pos_x                                  2048\n",
      "             pos_y                                  2560\n",
      "             pos_z                                 17.01\n",
      "             rot_x                            0.00953855\n",
      "             rot_y                              -2.35618\n",
      "             rot_z                           2.11808e-05\n",
      "             vel_x                                     0\n",
      "             vel_y                                     0\n",
      "             vel_z                                   2.1\n",
      "             ang_vel_x                               0.6\n",
      "             ang_vel_y                              -0.3\n",
      "             ang_vel_z                                 0\n",
      "             throttle                                255\n",
      "             steer                                   NaN\n",
      "             handbrake                              None\n",
      "             ball_cam                               True\n",
      "             boost                                    85\n",
      "             boost_active                          False\n",
      "             double_jump_active                    False\n",
      "             jump_active                           False\n",
      "             dodge_active                          False\n",
      "             boost_collect                           NaN\n",
      "Scrub Killa  ping                                      2\n",
      "             pos_x                                   256\n",
      "             pos_y                                  3840\n",
      "             pos_z                                 17.01\n",
      "             rot_x                            0.00954445\n",
      "             rot_y                               -1.5708\n",
      "             rot_z                          -3.69558e-08\n",
      "             vel_x                                     0\n",
      "             vel_y                                     0\n",
      "             vel_z                                   2.1\n",
      "             ang_vel_x                               0.6\n",
      "             ang_vel_y                                 0\n",
      "             ang_vel_z                                 0\n",
      "             throttle                                255\n",
      "             steer                                   199\n",
      "             handbrake                              None\n",
      "             ball_cam                               True\n",
      "             dodge_active                          False\n",
      "             double_jump_active                    False\n",
      "             jump_active                           False\n",
      "             boost                                    85\n",
      "             boost_active                          False\n",
      "             boost_collect                           NaN\n",
      "Turbopolsa   ping                                      2\n",
      "             pos_x                                  -256\n",
      "             pos_y                                 -3840\n",
      "             pos_z                                 17.01\n",
      "             rot_x                            0.00954445\n",
      "             rot_y                               1.57079\n",
      "             rot_z                          -3.69558e-08\n",
      "             vel_x                                     0\n",
      "             vel_y                                     0\n",
      "             vel_z                                   2.1\n",
      "             ang_vel_x                              -0.6\n",
      "             ang_vel_y                                 0\n",
      "             ang_vel_z                                 0\n",
      "             throttle                                NaN\n",
      "             steer                                     5\n",
      "             handbrake                              None\n",
      "             ball_cam                               True\n",
      "             boost                                    85\n",
      "             boost_active                          False\n",
      "             jump_active                           False\n",
      "             dodge_active                          False\n",
      "             double_jump_active                    False\n",
      "             boost_collect                           NaN\n",
      "ball         pos_x                                     0\n",
      "             pos_y                                     0\n",
      "             pos_z                                 92.74\n",
      "             rot_x                            5.3948e-06\n",
      "             rot_y                           5.39483e-06\n",
      "             rot_z                           5.39483e-06\n",
      "             vel_x                                   NaN\n",
      "             vel_y                                   NaN\n",
      "             vel_z                                   NaN\n",
      "             ang_vel_x                               NaN\n",
      "             ang_vel_y                               NaN\n",
      "             ang_vel_z                               NaN\n",
      "             hit_team_no                             NaN\n",
      "jstn.        ping                                      2\n",
      "             pos_x                                 -2048\n",
      "             pos_y                                 -2560\n",
      "             pos_z                                 17.01\n",
      "             rot_x                            0.00954268\n",
      "             rot_y                              0.786121\n",
      "             rot_z                           1.46117e-05\n",
      "             vel_x                                   0.6\n",
      "             vel_y                                   0.6\n",
      "             vel_z                                   2.1\n",
      "             ang_vel_x                              -0.5\n",
      "             ang_vel_y                               0.3\n",
      "             ang_vel_z                                 0\n",
      "             throttle                                255\n",
      "             steer                                   NaN\n",
      "             handbrake                              None\n",
      "             ball_cam                               None\n",
      "             boost                                    85\n",
      "             boost_active                          False\n",
      "             jump_active                           False\n",
      "             double_jump_active                    False\n",
      "             dodge_active                          False\n",
      "             boost_collect                           NaN\n",
      "game         time                                19.2486\n",
      "             delta                             0.0333339\n",
      "             seconds_remaining                       300\n",
      "             replicated_seconds_remaining            NaN\n",
      "             is_overtime                            None\n",
      "             ball_has_been_hit                      None\n",
      "             goal_number                             NaN\n",
      "Name: 1, dtype: object\n"
     ]
    }
   ],
   "source": [
    "with pd.option_context('display.max_rows', None, 'display.max_columns', None):  # more options can be specified also\n",
    "    print(df.iloc[0])"
   ]
  },
  {
   "cell_type": "code",
   "execution_count": 9,
   "metadata": {},
   "outputs": [
    {
     "name": "stdout",
     "output_type": "stream",
     "text": [
      "['Fairy Peak!', 'GarrettG', 'Kaydop', 'Scrub Killa', 'Turbopolsa', 'jstn.']\n"
     ]
    }
   ],
   "source": [
    "playas = list(list(df.columns.levels)[0])\n",
    "playas.remove('ball')\n",
    "playas.remove('game')\n",
    "print(playas)"
   ]
  },
  {
   "cell_type": "code",
   "execution_count": 10,
   "metadata": {},
   "outputs": [
    {
     "name": "stdout",
     "output_type": "stream",
     "text": [
      "['jstn.', 'GarrettG', 'Turbopolsa', 'Fairy Peak!', 'Kaydop', 'Scrub Killa']\n"
     ]
    }
   ],
   "source": [
    "for playa in playas:\n",
    "    if playa not in ordered_playas and player_team[playa][1] == player_team[ordered_playas[0]][1]:\n",
    "        ordered_playas.append(playa)\n",
    "\n",
    "for playa in playas:\n",
    "    if playa not in ordered_playas and player_team[playa][1] != player_team[ordered_playas[0]][1]:\n",
    "        ordered_playas.append(playa)\n",
    "        \n",
    "print(ordered_playas)"
   ]
  },
  {
   "cell_type": "code",
   "execution_count": 11,
   "metadata": {},
   "outputs": [
    {
     "name": "stdout",
     "output_type": "stream",
     "text": [
      "Index(['ping', 'pos_x', 'pos_y', 'pos_z', 'rot_x', 'rot_y', 'rot_z', 'vel_x',\n",
      "       'vel_y', 'vel_z', 'ang_vel_x', 'ang_vel_y', 'ang_vel_z', 'throttle',\n",
      "       'steer', 'handbrake', 'ball_cam', 'boost', 'boost_active',\n",
      "       'jump_active', 'double_jump_active', 'dodge_active', 'boost_collect'],\n",
      "      dtype='object')\n",
      "Index(['ping', 'pos_x', 'pos_y', 'pos_z', 'rot_x', 'rot_y', 'rot_z', 'vel_x',\n",
      "       'vel_y', 'vel_z', 'ang_vel_x', 'ang_vel_y', 'ang_vel_z', 'throttle',\n",
      "       'steer', 'handbrake', 'ball_cam', 'jump_active', 'double_jump_active',\n",
      "       'boost', 'boost_active', 'dodge_active', 'boost_collect'],\n",
      "      dtype='object')\n",
      "Index(['ping', 'pos_x', 'pos_y', 'pos_z', 'rot_x', 'rot_y', 'rot_z', 'vel_x',\n",
      "       'vel_y', 'vel_z', 'ang_vel_x', 'ang_vel_y', 'ang_vel_z', 'throttle',\n",
      "       'steer', 'handbrake', 'ball_cam', 'boost', 'boost_active',\n",
      "       'jump_active', 'dodge_active', 'double_jump_active', 'boost_collect'],\n",
      "      dtype='object')\n",
      "Index(['ping', 'pos_x', 'pos_y', 'pos_z', 'rot_x', 'rot_y', 'rot_z', 'vel_x',\n",
      "       'vel_y', 'vel_z', 'ang_vel_x', 'ang_vel_y', 'ang_vel_z', 'throttle',\n",
      "       'steer', 'handbrake', 'ball_cam', 'dodge_active', 'double_jump_active',\n",
      "       'boost', 'boost_active', 'jump_active', 'boost_collect'],\n",
      "      dtype='object')\n",
      "Index(['ping', 'pos_x', 'pos_y', 'pos_z', 'rot_x', 'rot_y', 'rot_z', 'vel_x',\n",
      "       'vel_y', 'vel_z', 'ang_vel_x', 'ang_vel_y', 'ang_vel_z', 'throttle',\n",
      "       'steer', 'handbrake', 'ball_cam', 'boost', 'boost_active',\n",
      "       'double_jump_active', 'jump_active', 'dodge_active', 'boost_collect'],\n",
      "      dtype='object')\n",
      "Index(['ping', 'pos_x', 'pos_y', 'pos_z', 'rot_x', 'rot_y', 'rot_z', 'vel_x',\n",
      "       'vel_y', 'vel_z', 'ang_vel_x', 'ang_vel_y', 'ang_vel_z', 'throttle',\n",
      "       'steer', 'handbrake', 'ball_cam', 'dodge_active', 'double_jump_active',\n",
      "       'jump_active', 'boost', 'boost_active', 'boost_collect'],\n",
      "      dtype='object')\n",
      "<class 'pandas.core.frame.DataFrame'>\n"
     ]
    }
   ],
   "source": [
    "for playa in ordered_playas:\n",
    "    print(df[playa].columns)\n",
    "print(type(df[playa]))"
   ]
  },
  {
   "cell_type": "code",
   "execution_count": 12,
   "metadata": {},
   "outputs": [],
   "source": [
    "########################### MAKING SURE EACH LEVEL IS SAME LENGTH\n",
    "length = len(df['ball'])\n",
    "if length != len(df['game']):\n",
    "    print(\"BAD\")\n",
    "for playa in ordered_playas:\n",
    "    if len(df[playa]) != length:\n",
    "        print(\"BAD\")\n",
    "###########################"
   ]
  },
  {
   "cell_type": "code",
   "execution_count": 14,
   "metadata": {},
   "outputs": [
    {
     "name": "stdout",
     "output_type": "stream",
     "text": [
      "player 0 is jstn.\n",
      "player 1 is GarrettG\n"
     ]
    },
    {
     "name": "stderr",
     "output_type": "stream",
     "text": [
      "/home/zach/.local/lib/python3.6/site-packages/pandas/core/frame.py:4025: SettingWithCopyWarning: \n",
      "A value is trying to be set on a copy of a slice from a DataFrame\n",
      "\n",
      "See the caveats in the documentation: http://pandas.pydata.org/pandas-docs/stable/indexing.html#indexing-view-versus-copy\n",
      "  return super(DataFrame, self).rename(**kwargs)\n"
     ]
    },
    {
     "name": "stdout",
     "output_type": "stream",
     "text": [
      "player 2 is Turbopolsa\n",
      "player 3 is Fairy Peak!\n",
      "player 4 is Kaydop\n",
      "player 5 is Scrub Killa\n"
     ]
    }
   ],
   "source": [
    "## MAKING NEW SINGLE LEVEL DF FOR TRAINING ##\n",
    "## PLAYER 0, 1, AND 1 ARE HIGHEST SCORING PLAYER'S TEAM WHILE 3, 4, AND 5 ARE ON OPPOSITE TEAM ##\n",
    "#first = True\n",
    "player_desired = 0\n",
    "\n",
    "print('player ' + str(player_desired) + ' is ' + ordered_playas[player_desired])\n",
    "single_level_df = df[ordered_playas[player_desired]]\n",
    "single_level_df.drop(columns=['rot_x','rot_y','rot_z','vel_x','vel_y','vel_z','ang_vel_x','ang_vel_y','ang_vel_z','ping','throttle','steer','handbrake','ball_cam','boost','boost_active','jump_active','double_jump_active','dodge_active','boost_collect'], inplace=True)\n",
    "single_level_df.rename(columns={'pos_x': str(player_desired)+'_pos_x', 'pos_y': str(player_desired)+'_pos_y', 'pos_z': str(player_desired)+'_pos_z'}, inplace=True)\n",
    "for i, playa in enumerate(ordered_playas):\n",
    "    if player_desired == i:\n",
    "        continue\n",
    "    piece = df[playa]\n",
    "    piece.drop(columns=['ping','throttle','steer','handbrake','ball_cam','boost','boost_active','jump_active','double_jump_active','dodge_active','boost_collect'], inplace=True)\n",
    "    piece.rename(columns={'pos_x': str(i)+'_pos_x', 'pos_y': str(i)+'_pos_y', 'pos_z': str(i)+'_pos_z', 'rot_x': str(i)+'_rot_x', 'rot_y': str(i)+'_rot_y', 'rot_z': str(i)+'_rot_z', 'vel_x': str(i)+'_vel_x', 'vel_y': str(i)+'_vel_y', 'vel_z': str(i)+'_vel_z', 'ang_vel_x': str(i)+'_ang_vel_x', 'ang_vel_y': str(i)+'_ang_vel_y', 'ang_vel_z': str(i)+'_ang_vel_z'}, inplace=True)\n",
    "    single_level_df = single_level_df.join(piece)\n",
    "    print('player ' + str(i) + ' is ' + playa)\n",
    "    \n",
    "ball_data = df['ball']\n",
    "ball_data.drop(columns=['hit_team_no'], inplace=True)\n",
    "ball_data.rename(columns={'pos_x': 'ball_pos_x', 'pos_y': 'ball_pos_y', 'pos_z': 'ball_pos_z', 'rot_x': 'ball_rot_x', 'rot_y': 'ball_rot_y', 'rot_z': 'ball_rot_z', 'vel_x': 'ball_vel_x', 'vel_y': 'ball_vel_y', 'vel_z': 'ball_vel_z', 'ang_vel_x': 'ball_ang_vel_x', 'ang_vel_y': 'ball_ang_vel_y', 'ang_vel_z': 'ball_ang_vel_z'}, inplace=True)\n",
    "single_level_df = single_level_df.join(ball_data)\n",
    "single_level_df['seconds_remaining'] = df['game']['seconds_remaining']"
   ]
  },
  {
   "cell_type": "code",
   "execution_count": 15,
   "metadata": {},
   "outputs": [
    {
     "name": "stdout",
     "output_type": "stream",
     "text": [
      "Index(['0_pos_x', '0_pos_y', '0_pos_z', '1_pos_x', '1_pos_y', '1_pos_z',\n",
      "       '1_rot_x', '1_rot_y', '1_rot_z', '1_vel_x', '1_vel_y', '1_vel_z',\n",
      "       '1_ang_vel_x', '1_ang_vel_y', '1_ang_vel_z', '2_pos_x', '2_pos_y',\n",
      "       '2_pos_z', '2_rot_x', '2_rot_y', '2_rot_z', '2_vel_x', '2_vel_y',\n",
      "       '2_vel_z', '2_ang_vel_x', '2_ang_vel_y', '2_ang_vel_z', '3_pos_x',\n",
      "       '3_pos_y', '3_pos_z', '3_rot_x', '3_rot_y', '3_rot_z', '3_vel_x',\n",
      "       '3_vel_y', '3_vel_z', '3_ang_vel_x', '3_ang_vel_y', '3_ang_vel_z',\n",
      "       '4_pos_x', '4_pos_y', '4_pos_z', '4_rot_x', '4_rot_y', '4_rot_z',\n",
      "       '4_vel_x', '4_vel_y', '4_vel_z', '4_ang_vel_x', '4_ang_vel_y',\n",
      "       '4_ang_vel_z', '5_pos_x', '5_pos_y', '5_pos_z', '5_rot_x', '5_rot_y',\n",
      "       '5_rot_z', '5_vel_x', '5_vel_y', '5_vel_z', '5_ang_vel_x',\n",
      "       '5_ang_vel_y', '5_ang_vel_z', 'ball_pos_x', 'ball_pos_y', 'ball_pos_z',\n",
      "       'ball_rot_x', 'ball_rot_y', 'ball_rot_z', 'ball_vel_x', 'ball_vel_y',\n",
      "       'ball_vel_z', 'ball_ang_vel_x', 'ball_ang_vel_y', 'ball_ang_vel_z',\n",
      "       'seconds_remaining'],\n",
      "      dtype='object')\n",
      "10661\n"
     ]
    }
   ],
   "source": [
    "print(single_level_df.columns)\n",
    "print(len(single_level_df))"
   ]
  },
  {
   "cell_type": "code",
   "execution_count": 16,
   "metadata": {},
   "outputs": [
    {
     "name": "stdout",
     "output_type": "stream",
     "text": [
      "1190 frames lost due to demolitions or players leaving\n"
     ]
    }
   ],
   "source": [
    "## CHECK HOW MANY NAN EXIST ## \n",
    "num_nans = len(single_level_df) - len(single_level_df.dropna())\n",
    "print(str(num_nans), 'frames lost due to demolitions or players leaving')\n",
    "single_level_df.dropna(inplace=True)\n",
    "single_level_df.reset_index(drop=True, inplace=True)"
   ]
  },
  {
   "cell_type": "code",
   "execution_count": 17,
   "metadata": {},
   "outputs": [
    {
     "name": "stderr",
     "output_type": "stream",
     "text": [
      "Widget Javascript not detected.  It may not be installed or enabled properly.\n"
     ]
    },
    {
     "data": {
      "application/vnd.jupyter.widget-view+json": {
       "model_id": "55d79bde1cfb4a62b992b74ac1997f78"
      }
     },
     "metadata": {},
     "output_type": "display_data"
    },
    {
     "name": "stdout",
     "output_type": "stream",
     "text": [
      "\n"
     ]
    }
   ],
   "source": [
    "## SPLIT POSITIONING INTO SEGMENTS ##\n",
    "## 8 X SEGMENTS, 10 Y SEGMENTS, 7 Z SEGMENTS\n",
    "## THIS GIVES 1024 (X) BY 1024 (Y) BY 292 (Z) CUBES\n",
    "\n",
    "def x_segment(x):\n",
    "    seg = -4096\n",
    "    while(True):\n",
    "        if x >= seg and x < seg+1024:\n",
    "            return (seg+(seg+1024))/2\n",
    "        seg += 1024\n",
    "        \n",
    "def y_segment(y):\n",
    "    seg = -5120\n",
    "    if y < -5120:\n",
    "        return -5121 # IN BLUE TEAM GOAL\n",
    "    elif y > 5120:\n",
    "        return 5121 # IN ORANGE TEAM GOAL\n",
    "    while(True):\n",
    "        if y >= seg and y < seg+1024:\n",
    "            return (seg+(seg+1024))/2\n",
    "        seg += 1024\n",
    "        \n",
    "def z_segment(z):\n",
    "    seg = 0\n",
    "    while(True):\n",
    "        if z >= seg and z < seg+292:\n",
    "            return (seg+(seg+292))/2\n",
    "        seg += 292\n",
    "        \n",
    "length = len(single_level_df)\n",
    "for i in tqdm(single_level_df.index):\n",
    "    single_level_df.at[i, '0_pos_x'] = x_segment(single_level_df.at[i, '0_pos_x'])\n",
    "    single_level_df.at[i, '0_pos_y'] = y_segment(single_level_df.at[i, '0_pos_y'])\n",
    "    single_level_df.at[i, '0_pos_z'] = z_segment(single_level_df.at[i, '0_pos_z'])"
   ]
  },
  {
   "cell_type": "code",
   "execution_count": 18,
   "metadata": {},
   "outputs": [
    {
     "name": "stdout",
     "output_type": "stream",
     "text": [
      "0_pos_x               -512.000000\n",
      "0_pos_y               -512.000000\n",
      "0_pos_z                146.000000\n",
      "1_pos_x              -2342.830000\n",
      "1_pos_y              -4339.880000\n",
      "1_pos_z                 17.010000\n",
      "1_rot_x                  0.009624\n",
      "1_rot_y                 -2.942946\n",
      "1_rot_z                 -0.000120\n",
      "1_vel_x             -20956.800000\n",
      "1_vel_y              -4278.000000\n",
      "1_vel_z                  1.700000\n",
      "1_ang_vel_x              2.000000\n",
      "1_ang_vel_y              0.700000\n",
      "1_ang_vel_z           -656.200000\n",
      "2_pos_x                 65.190000\n",
      "2_pos_y              -1729.880000\n",
      "2_pos_z                 17.010000\n",
      "2_rot_x                  0.009624\n",
      "2_rot_y                  1.687869\n",
      "2_rot_z                 -0.000032\n",
      "2_vel_x              -1582.100000\n",
      "2_vel_y              13875.600000\n",
      "2_vel_z                  2.100000\n",
      "2_ang_vel_x              0.600000\n",
      "2_ang_vel_y              0.300000\n",
      "2_ang_vel_z             23.700000\n",
      "3_pos_x               2615.930000\n",
      "3_pos_y               4181.240000\n",
      "3_pos_z                 39.630000\n",
      "3_rot_x                  0.148087\n",
      "3_rot_y                 -0.118170\n",
      "3_rot_z                  0.545851\n",
      "3_vel_x              21801.100000\n",
      "3_vel_y                190.200000\n",
      "3_vel_z              -2270.900000\n",
      "3_ang_vel_x          -1368.800000\n",
      "3_ang_vel_y           1348.300000\n",
      "3_ang_vel_z           -330.100000\n",
      "4_pos_x                146.310000\n",
      "4_pos_y                522.930000\n",
      "4_pos_z                 46.510000\n",
      "4_rot_x                  0.003462\n",
      "4_rot_y                 -1.976636\n",
      "4_rot_z                 -0.025234\n",
      "4_vel_x             -11230.300000\n",
      "4_vel_y             -18178.700000\n",
      "4_vel_z               3559.800000\n",
      "4_ang_vel_x            273.800000\n",
      "4_ang_vel_y           1242.000000\n",
      "4_ang_vel_z           1944.600000\n",
      "5_pos_x                 32.820000\n",
      "5_pos_y               1424.020000\n",
      "5_pos_z                 16.950000\n",
      "5_rot_x                  0.009916\n",
      "5_rot_y                 -1.717174\n",
      "5_rot_z                  0.000642\n",
      "5_vel_x              -2108.400000\n",
      "5_vel_y             -15365.200000\n",
      "5_vel_z                 18.900000\n",
      "5_ang_vel_x             -3.100000\n",
      "5_ang_vel_y             18.200000\n",
      "5_ang_vel_z          -1305.200000\n",
      "ball_pos_x               3.940000\n",
      "ball_pos_y              13.080000\n",
      "ball_pos_z              93.970000\n",
      "ball_rot_x               0.000581\n",
      "ball_rot_y               0.049910\n",
      "ball_rot_z              -0.016159\n",
      "ball_vel_x            8752.200000\n",
      "ball_vel_y           27083.400000\n",
      "ball_vel_z            3184.300000\n",
      "ball_ang_vel_x       -1849.700000\n",
      "ball_ang_vel_y          19.600000\n",
      "ball_ang_vel_z        5707.700000\n",
      "seconds_remaining      300.000000\n",
      "Name: 0, dtype: float64\n"
     ]
    }
   ],
   "source": [
    "with pd.option_context('display.max_rows', None, 'display.max_columns', None):  # more options can be specified also\n",
    "    print(single_level_df.iloc[0])"
   ]
  },
  {
   "cell_type": "code",
   "execution_count": null,
   "metadata": {},
   "outputs": [],
   "source": [
    "#single_level_df.to_excel('all_objects.xlsx')"
   ]
  },
  {
   "cell_type": "code",
   "execution_count": null,
   "metadata": {},
   "outputs": [],
   "source": [
    "## NEXT STEPS ARE TO FUNCTIONALIZE DF NORMALIZATION SO ALL REPLAYS CAN BE COMBINED INTO ONE DF ##"
   ]
  }
 ],
 "metadata": {
  "kernelspec": {
   "display_name": "Python 3",
   "language": "python",
   "name": "python3"
  },
  "language_info": {
   "codemirror_mode": {
    "name": "ipython",
    "version": 3
   },
   "file_extension": ".py",
   "mimetype": "text/x-python",
   "name": "python",
   "nbconvert_exporter": "python",
   "pygments_lexer": "ipython3",
   "version": "3.6.9"
  }
 },
 "nbformat": 4,
 "nbformat_minor": 2
}
